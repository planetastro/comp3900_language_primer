{
  "cells": [
    {
      "cell_type": "markdown",
      "metadata": {
        "id": "x7KF1kcjJ0qk"
      },
      "source": [
        "# COMP[39]900 Python Reference\n",
        "\n",
        "This primer will cover Basic Python Datatypes and Functions\n"
      ]
    },
    {
      "cell_type": "markdown",
      "metadata": {
        "id": "4PsHPqlGKn2q"
      },
      "source": [
        "## Basic Python Datatypes and Functions"
      ]
    },
    {
      "cell_type": "code",
      "execution_count": null,
      "metadata": {
        "colab": {
          "base_uri": "https://localhost:8080/"
        },
        "id": "XrdV3CB9JmZJ",
        "outputId": "58c5e82f-4f6f-4b11-96d7-1ecc345eccbe"
      },
      "outputs": [
        {
          "name": "stdout",
          "output_type": "stream",
          "text": [
            "COMP3900\n",
            "COMP3900 COMP9900\n",
            "hello world\n",
            "The undergrad version of this course is COMP3900 and the postgrad version is COMP9900.\n",
            "comp3900\n"
          ]
        }
      ],
      "source": [
        "# comments can be written with a hash as with this comment\n",
        "\n",
        "# strings\n",
        "# can be denoted with either single quote or double quotes\n",
        "# there is no difference between these\n",
        "undergrad_course_name = 'COMP3900'\n",
        "postgrad_course_name = \"COMP9900\"\n",
        "\n",
        "# methods and functions\n",
        "# you can print strings using the print function\n",
        "print(undergrad_course_name)\n",
        "\n",
        "# you can print multiple strings one after the other using comma (separates each string with a space)\n",
        "print(undergrad_course_name, postgrad_course_name)\n",
        "\n",
        "# you can concatenate strings with +\n",
        "print(\"hello\" + \" \" + \"world\")\n",
        "\n",
        "# we can use format strings to construct complex strings in a more readable way\n",
        "print(f\"The undergrad version of this course is {undergrad_course_name} and the postgrad version is {postgrad_course_name}.\")\n",
        "\n",
        "# you can convert strings to uppercase with upper and lowercase with lower methods\n",
        "print(undergrad_course_name.lower())\n"
      ]
    },
    {
      "cell_type": "code",
      "execution_count": null,
      "metadata": {
        "colab": {
          "base_uri": "https://localhost:8080/"
        },
        "id": "oOBpa9_4N_Tu",
        "outputId": "2eb0f6c6-be6a-46d5-96e5-00829fadc265"
      },
      "outputs": [
        {
          "name": "stdout",
          "output_type": "stream",
          "text": [
            "<class 'int'>\n",
            "<class 'float'>\n",
            "When we add these we get 8.0\n",
            "When we subtract these we get 2.0\n",
            "When we multiply these we get 15.0\n",
            "When we add divide we get 1.6666666666666667\n",
            "When we add floor divide we get 1.0\n",
            "5^8 = 390625\n"
          ]
        }
      ],
      "source": [
        "# integers and floats\n",
        "# python automatically determines whether something should be an integer or a float from its value\n",
        "number = 5 # this will be an int\n",
        "print(type(number))\n",
        "\n",
        "decimal = 3.0 # this will be a float\n",
        "print(type(decimal))\n",
        "\n",
        "added_numbers = number + decimal\n",
        "subtracted_numbers = number - decimal\n",
        "multiplied_numbers = number * decimal\n",
        "divided_numbers = number / decimal\n",
        "floor_div_numbers = number // decimal\n",
        "\n",
        "print(f\"When we add these we get {added_numbers}\")\n",
        "print(f\"When we subtract these we get {subtracted_numbers}\")\n",
        "print(f\"When we multiply these we get {multiplied_numbers}\")\n",
        "print(f\"When we add divide we get {divided_numbers}\")\n",
        "print(f\"When we add floor divide we get {floor_div_numbers}\") # floor division rounds down\n",
        "\n",
        "exponent = 8\n",
        "print(f\"{number}^{exponent} = {number ** exponent}\")"
      ]
    },
    {
      "cell_type": "code",
      "execution_count": null,
      "metadata": {
        "colab": {
          "base_uri": "https://localhost:8080/"
        },
        "id": "-PxVjMjKQMgd",
        "outputId": "d1e60fcf-8de0-4b0d-a451-01707ed2fac3"
      },
      "outputs": [
        {
          "name": "stdout",
          "output_type": "stream",
          "text": [
            "a is True\n",
            "not a is False\n",
            "b is False\n",
            "a and b is False\n",
            "a or b is True\n"
          ]
        }
      ],
      "source": [
        "# booleans\n",
        "a = True\n",
        "b = False\n",
        "print(f\"a is {a}\")\n",
        "print(f\"not a is {not a}\")\n",
        "print(f\"b is {b}\")\n",
        "print(f\"a and b is {a and b}\")\n",
        "print(f\"a or b is {a or b}\")"
      ]
    },
    {
      "cell_type": "code",
      "execution_count": null,
      "metadata": {
        "colab": {
          "background_save": true,
          "base_uri": "https://localhost:8080/"
        },
        "id": "jKo7RH81Qec1",
        "outputId": "1fa744e7-c87d-456c-e82f-cbd4c30cb108"
      },
      "outputs": [
        {
          "name": "stdout",
          "output_type": "stream",
          "text": [
            "['COMP3900']\n",
            "['COMP9900']\n",
            "['COMP3900', 'COMP9900']\n",
            "['COMP3900', 'COMP9900', 'COMP1234', 'COMP4321']\n",
            "COMP1234\n",
            "All items are:\n",
            "COMP3900\n",
            "COMP9900\n",
            "COMP1234\n",
            "COMP4321\n",
            "Sorting in-place gives [1, 4, 5, 7, 8]\n",
            "The sorted function keeps the original list as [1, 5, 4, 7, 8]\n",
            "The sorted function returns a sorted list as [1, 4, 5, 7, 8]\n"
          ]
        }
      ],
      "source": [
        "# lists\n",
        "# python has lists which are dynamically sized\n",
        "# this means you can keep adding elements to a list and it will grow in size\n",
        "undergrad_courses = [\"COMP3900\"]\n",
        "print(undergrad_courses)\n",
        "postgrad_courses = [\"COMP9900\"]\n",
        "print(postgrad_courses)\n",
        "\n",
        "all_courses = undergrad_courses + postgrad_courses\n",
        "print(all_courses)\n",
        "\n",
        "# you can add items to a list using append\n",
        "all_courses.append(\"COMP1234\")\n",
        "all_courses.append(\"COMP4321\")\n",
        "print(all_courses)\n",
        "\n",
        "# you can index the list\n",
        "print(all_courses[2]) # gives you the 3rd element in the list\n",
        "\n",
        "# you can iterate through a list\n",
        "print(\"All items are:\")\n",
        "for item in all_courses:\n",
        "  print(item)\n",
        "\n",
        "# you can sort lists\n",
        "# to sort a list in-place (the same list gets sorted)\n",
        "numbers = [1,5,4,7,8]\n",
        "numbers.sort()\n",
        "print(f\"Sorting in-place gives {numbers}\")\n",
        "\n",
        "# or you can use the sort function which retains the original\n",
        "numbers = [1,5,4,7,8]\n",
        "numbers_2 = sorted(numbers)\n",
        "print(f\"The sorted function keeps the original list as {numbers}\")\n",
        "print(f\"The sorted function returns a sorted list as {numbers_2}\")"
      ]
    },
    {
      "cell_type": "code",
      "execution_count": null,
      "metadata": {
        "id": "TAJ6jyOSRWey",
        "colab": {
          "base_uri": "https://localhost:8080/"
        },
        "outputId": "7f0fa012-e27f-403c-afe2-9a0b0e7b622e"
      },
      "outputs": [
        {
          "output_type": "stream",
          "name": "stdout",
          "text": [
            "Computer Science Project\n",
            "COMP3900 is called Computer Science Project\n",
            "COMP1511 is called Programming Fundamentals\n"
          ]
        }
      ],
      "source": [
        "# dictionaries\n",
        "# map keys and values\n",
        "course_names = {} # create an empty dictionary\n",
        "course_names[\"COMP3900\"] = \"Computer Science Project\"\n",
        "course_names[\"COMP1511\"] = \"Programming Fundamentals\"\n",
        "\n",
        "print(course_names[\"COMP3900\"])\n",
        "\n",
        "for course in course_names:\n",
        "  print(f\"{course} is called {course_names[course]}\")"
      ]
    },
    {
      "cell_type": "code",
      "source": [
        "# we can define our own classes\n",
        "class Fraction:\n",
        "  # runs when we initialise this object\n",
        "  def __init__(self, numerator, denominator):\n",
        "    self.numerator = numerator # set the attributes\n",
        "    self.denominator = denominator\n",
        "\n",
        "  def print_fraction(self):\n",
        "    print(f\"{self.numerator}/{self.denominator}\")\n",
        "\n",
        "  # adds an extra number to the fraction and return float answer\n",
        "  def to_float_plus_extra_number(self, add_extra_number):\n",
        "    return self.numerator / self.denominator + add_extra_number\n",
        "\n",
        "\n",
        "four_sevenths = Fraction(4, 7)\n",
        "four_sevenths.print_fraction()\n",
        "print(f\"5 + 4/7 = {four_sevenths.to_float_plus_extra_number(5)}\")"
      ],
      "metadata": {
        "colab": {
          "base_uri": "https://localhost:8080/"
        },
        "id": "dr5RMTip7JrP",
        "outputId": "35b40b5d-0d88-4d31-84e2-350ae088136f"
      },
      "execution_count": null,
      "outputs": [
        {
          "output_type": "stream",
          "name": "stdout",
          "text": [
            "4/7\n",
            "5 + 4/7 = 5.571428571428571\n"
          ]
        }
      ]
    }
  ],
  "metadata": {
    "colab": {
      "provenance": []
    },
    "kernelspec": {
      "display_name": "Python 3",
      "name": "python3"
    },
    "language_info": {
      "name": "python"
    }
  },
  "nbformat": 4,
  "nbformat_minor": 0
}